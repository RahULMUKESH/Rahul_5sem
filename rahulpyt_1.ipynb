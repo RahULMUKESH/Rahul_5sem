{
 "cells": [
  {
   "cell_type": "code",
   "execution_count": 1,
   "id": "9e159ec5-4cca-419f-9e36-035c6e7dcd0c",
   "metadata": {},
   "outputs": [
    {
     "name": "stdout",
     "output_type": "stream",
     "text": [
      "\n",
      "Options:\n",
      "1. Display to-do list\n",
      "2. Add a task\n",
      "3. Mark a task as completed\n",
      "4. Remove a task\n",
      "5. Quit\n"
     ]
    },
    {
     "name": "stdin",
     "output_type": "stream",
     "text": [
      "Enter your choice:  1\n"
     ]
    },
    {
     "name": "stdout",
     "output_type": "stream",
     "text": [
      "Your to-do list is empty.\n",
      "\n",
      "Options:\n",
      "1. Display to-do list\n",
      "2. Add a task\n",
      "3. Mark a task as completed\n",
      "4. Remove a task\n",
      "5. Quit\n"
     ]
    },
    {
     "name": "stdin",
     "output_type": "stream",
     "text": [
      "Enter your choice:  2\n",
      "Enter the task:  eating\n"
     ]
    },
    {
     "name": "stdout",
     "output_type": "stream",
     "text": [
      "Task 'eating' added to your to-do list.\n",
      "\n",
      "Options:\n",
      "1. Display to-do list\n",
      "2. Add a task\n",
      "3. Mark a task as completed\n",
      "4. Remove a task\n",
      "5. Quit\n"
     ]
    },
    {
     "name": "stdin",
     "output_type": "stream",
     "text": [
      "Enter your choice:  1\n"
     ]
    },
    {
     "name": "stdout",
     "output_type": "stream",
     "text": [
      "To-Do List:\n",
      "1. eating (Not Done)\n",
      "\n",
      "Options:\n",
      "1. Display to-do list\n",
      "2. Add a task\n",
      "3. Mark a task as completed\n",
      "4. Remove a task\n",
      "5. Quit\n"
     ]
    },
    {
     "name": "stdin",
     "output_type": "stream",
     "text": [
      "Enter your choice:  3\n"
     ]
    },
    {
     "name": "stdout",
     "output_type": "stream",
     "text": [
      "To-Do List:\n",
      "1. eating (Not Done)\n"
     ]
    },
    {
     "name": "stdin",
     "output_type": "stream",
     "text": [
      "Enter the task number to mark as completed:  1\n"
     ]
    },
    {
     "name": "stdout",
     "output_type": "stream",
     "text": [
      "Task 1 marked as completed.\n",
      "\n",
      "Options:\n",
      "1. Display to-do list\n",
      "2. Add a task\n",
      "3. Mark a task as completed\n",
      "4. Remove a task\n",
      "5. Quit\n"
     ]
    },
    {
     "name": "stdin",
     "output_type": "stream",
     "text": [
      "Enter your choice:  1\n"
     ]
    },
    {
     "name": "stdout",
     "output_type": "stream",
     "text": [
      "To-Do List:\n",
      "1. eating (Done)\n",
      "\n",
      "Options:\n",
      "1. Display to-do list\n",
      "2. Add a task\n",
      "3. Mark a task as completed\n",
      "4. Remove a task\n",
      "5. Quit\n"
     ]
    },
    {
     "name": "stdin",
     "output_type": "stream",
     "text": [
      "Enter your choice:  4\n"
     ]
    },
    {
     "name": "stdout",
     "output_type": "stream",
     "text": [
      "To-Do List:\n",
      "1. eating (Done)\n"
     ]
    },
    {
     "name": "stdin",
     "output_type": "stream",
     "text": [
      "Enter the task number to remove:  1\n"
     ]
    },
    {
     "name": "stdout",
     "output_type": "stream",
     "text": [
      "Task 'eating' removed from your to-do list.\n",
      "\n",
      "Options:\n",
      "1. Display to-do list\n",
      "2. Add a task\n",
      "3. Mark a task as completed\n",
      "4. Remove a task\n",
      "5. Quit\n"
     ]
    },
    {
     "name": "stdin",
     "output_type": "stream",
     "text": [
      "Enter your choice:  1\n"
     ]
    },
    {
     "name": "stdout",
     "output_type": "stream",
     "text": [
      "Your to-do list is empty.\n",
      "\n",
      "Options:\n",
      "1. Display to-do list\n",
      "2. Add a task\n",
      "3. Mark a task as completed\n",
      "4. Remove a task\n",
      "5. Quit\n"
     ]
    },
    {
     "name": "stdin",
     "output_type": "stream",
     "text": [
      "Enter your choice:  5\n"
     ]
    }
   ],
   "source": [
    "# Define a class representing a to-do list\n",
    "class TodoList:\n",
    "    # Constructor to initialize an empty list for tasks\n",
    "    def __init__(self):\n",
    "        self.tasks = []\n",
    "\n",
    "    # Method to display the tasks in the to-do list\n",
    "    def display_tasks(self):\n",
    "        # Check if the to-do list is empty\n",
    "        if not self.tasks:\n",
    "            print(\"Your to-do list is empty.\")\n",
    "        else:\n",
    "            print(\"To-Do List:\")\n",
    "            # Iterate over each task and display its index, description, and completion status\n",
    "            for i, task in enumerate(self.tasks, start=1):\n",
    "                status = \"Done\" if task[\"completed\"] else \"Not Done\"\n",
    "                print(f\"{i}. {task['task']} ({status})\")\n",
    "\n",
    "    # Method to add a task to the to-do list\n",
    "    def add_task(self, task_name):\n",
    "        # Create a dictionary representing the task with the provided name and mark it as not completed\n",
    "        task = {\"task\": task_name, \"completed\": False}\n",
    "        # Add the task to the list\n",
    "        self.tasks.append(task)\n",
    "        # Print a message confirming the addition of the task\n",
    "        print(f\"Task '{task_name}' added to your to-do list.\")\n",
    "\n",
    "    # Method to mark a task as completed\n",
    "    def mark_completed(self, task_number):\n",
    "        # Check if the provided task number is within the valid range\n",
    "        if 1 <= task_number <= len(self.tasks):\n",
    "            # Mark the task at the specified index as completed\n",
    "            self.tasks[task_number - 1][\"completed\"] = True\n",
    "            # Print a message confirming the task completion\n",
    "            print(f\"Task {task_number} marked as completed.\")\n",
    "        else:\n",
    "            # Print an error message for an invalid task number\n",
    "            print(\"Invalid task number. Please enter a valid task number.\")\n",
    "\n",
    "    # Method to remove a task from the to-do list\n",
    "    def remove_task(self, task_number):\n",
    "        # Check if the provided task number is within the valid range\n",
    "        if 1 <= task_number <= len(self.tasks):\n",
    "            # Remove the task at the specified index and store it in a variable\n",
    "            removed_task = self.tasks.pop(task_number - 1)\n",
    "            # Print a message confirming the removal of the task\n",
    "            print(f\"Task '{removed_task['task']}' removed from your to-do list.\")\n",
    "        else:\n",
    "            # Print an error message for an invalid task number\n",
    "            print(\"Invalid task number. Please enter a valid task number.\")\n",
    "\n",
    "# Main function to run the program\n",
    "def main():\n",
    "    # Create an instance of the TodoList class\n",
    "    todo_list = TodoList()\n",
    "    \n",
    "    # Main program loop\n",
    "    while True:\n",
    "        # Display the menu options\n",
    "        print(\"\\nOptions:\")\n",
    "        print(\"1. Display to-do list\")\n",
    "        print(\"2. Add a task\")\n",
    "        print(\"3. Mark a task as completed\")\n",
    "        print(\"4. Remove a task\")\n",
    "        print(\"5. Quit\")\n",
    "        # Prompt the user for their choice\n",
    "        choice = input(\"Enter your choice: \")\n",
    "\n",
    "        # Check the user's choice and perform the corresponding action\n",
    "        if choice == '1':\n",
    "            todo_list.display_tasks()\n",
    "        elif choice == '2':\n",
    "            task_name = input(\"Enter the task: \")\n",
    "            todo_list.add_task(task_name)\n",
    "        elif choice == '3':\n",
    "            todo_list.display_tasks()\n",
    "            task_number = int(input(\"Enter the task number to mark as completed: \"))\n",
    "            todo_list.mark_completed(task_number)\n",
    "        elif choice == '4':\n",
    "            todo_list.display_tasks()\n",
    "            task_number = int(input(\"Enter the task number to remove: \"))\n",
    "            todo_list.remove_task(task_number)\n",
    "        elif choice == '5':\n",
    "            break\n",
    "        else:\n",
    "            print(\"Invalid choice. Please enter a valid option.\")\n",
    "\n",
    "# Check if the script is being run directly\n",
    "if __name__ == \"__main__\":\n",
    "    # Call the main function to start the program\n",
    "    main()\n"
   ]
  },
  {
   "cell_type": "code",
   "execution_count": null,
   "id": "c0523efa-5463-404e-9f36-b2be77d36229",
   "metadata": {},
   "outputs": [],
   "source": []
  }
 ],
 "metadata": {
  "kernelspec": {
   "display_name": "Python 3 (ipykernel)",
   "language": "python",
   "name": "python3"
  },
  "language_info": {
   "codemirror_mode": {
    "name": "ipython",
    "version": 3
   },
   "file_extension": ".py",
   "mimetype": "text/x-python",
   "name": "python",
   "nbconvert_exporter": "python",
   "pygments_lexer": "ipython3",
   "version": "3.11.7"
  }
 },
 "nbformat": 4,
 "nbformat_minor": 5
}
